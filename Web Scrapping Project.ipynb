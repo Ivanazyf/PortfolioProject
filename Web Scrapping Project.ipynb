{
 "cells": [
  {
   "cell_type": "code",
   "execution_count": 11,
   "id": "0cdb5c77",
   "metadata": {},
   "outputs": [],
   "source": [
    "# import libraries\n",
    "\n",
    "from bs4 import BeautifulSoup\n",
    "import requests\n",
    "import csv\n",
    "import pandas as pd"
   ]
  },
  {
   "cell_type": "code",
   "execution_count": 12,
   "id": "58775f30",
   "metadata": {},
   "outputs": [],
   "source": [
    "# Connect to New Products Website\n",
    "\n",
    "URL = 'https://panacheevents.com/what-s-new/new-products.html'\n",
    "\n",
    "headers = {'User-Agent':'Mozilla/5.0 (Macintosh; Intel Mac OS X 10_15_7) AppleWebKit/537.36 (KHTML, like Gecko) Chrome/115.0.0.0 Safari/537.36'}\n",
    "\n",
    "page = requests.get(URL, headers = headers)\n",
    "\n",
    "soup1 = BeautifulSoup(page.content, 'html.parser')  # extract html codes\n",
    "\n",
    "soup2 = BeautifulSoup(soup1.prettify(), 'html.parser') # make soup1 in a better format\n"
   ]
  },
  {
   "cell_type": "code",
   "execution_count": 23,
   "id": "4cd7de1e",
   "metadata": {},
   "outputs": [
    {
     "name": "stdout",
     "output_type": "stream",
     "text": [
      "[{'name': 'Sky Panama', 'descriptions': 'Our Sky Panama linen is 100% polyester but looks and feels like cotton.\\xa0 The fabric has a nice heavy weight to it, allowing the cloth to lay well on tables.\\xa0 The subtle texture is perfect for both indoor and outdoor events.', 'sku': '8640SkyPanama'}, {'name': 'Cabana Pillow 20\" x 20\"', 'descriptions': '***Coming August 2023***', 'sku': '170-7135'}, {'name': 'Peacock Pillow 20\" x 20\"', 'descriptions': '***Coming August 2023***', 'sku': '170-7140'}, {'name': 'Beer Tub Double Wall', 'descriptions': 'Dimensions of Top Diameter: 19\"L x 19\"D x 9.5\"H.\\xa0 Bottom Diameter measures 15\" round.\\nRent the Beer Tub Double Wall made of stainless steel material for your next beverage display area.\\xa0 Has a 7 gallon capacity and is insulated.', 'sku': '381-950'}, {'name': 'Homestead Sectional Sofa', 'descriptions': 'Dimensions Overall: 80\"W x 80\"D x 26.75\"H.\\xa0 Dimensions of each corner piece: 27.25\"W x 27.25\"D x 26.75\"H.\\xa0 Dimensions of each middle piece: 25.5\"W x 27.25\"D x 26.75\"H.\\nFeaturing five sofa seats, our Homestead wood patio furniture set can be arranged in any way you find fit.\\xa0 Play with the layout or combine them to make a large L-shaped couch.\\xa0 5 piece sectional set includes three corner chairs and two middle chairs.\\xa0 Coffee table is a separate rental.\\nOur outdoor Homestead Sectional Sofa set was crafted from strong solid acacia wood and painted to protect it against water. It offers an elegant wood grain pattern that\\'s sure to impress.\\xa0 Safe for outdoor use.\\xa0 Cover or store indoors during inclement weather and when not in use.', 'sku': '170-874'}, {'name': 'Homestead Coffee Table', 'descriptions': 'Dimensions: 25.5\"L x 25.5\"D x 11\"H.\\nThe Homestead Coffee Table perfectly compliments our Homestead Sectional Sofa and is suitable for indoor and outdoor use.\\xa0 Cover or store indoors during inclement weather and when not in use.', 'sku': '170-8844'}, {'name': 'Dorsal Dessert Glass', 'descriptions': 'The Dorsal Dessert Glass has a capacity to hold 6.75 liquid ounces.\\xa0 This item rents in quantities of 25 per rack.\\xa0\\nDimensions: 3.25\"L x 2.25\"D x 3\"H', 'sku': '236-1675'}, {'name': 'Merlot Velvet', 'descriptions': None, 'sku': '8834MerlotVelvet'}, {'name': 'Celery Panama 120\" Round', 'descriptions': 'Our Panama linen is 100% polyester but looks and feels like cotton.\\xa0 The fabric has a nice heavy weight to it, allowing the cloth to\\xa0lay well on tables.\\xa0 The subtle texture is perfect for both indoor and outdoor events.', 'sku': '844-8597'}, {'name': \"Picnic Table Black 6' Wooden\", 'descriptions': 'Dimensions of table top: 6\\'L x 27.5\"W x 28\"H\\nDimensions of bench: 6\\'L x 11\"W x 16\"H\\nIncludes hole in center of table for umbrella if desired - please specifcy this with your sales rep.', 'sku': '160-8050'}, {'name': \"Boxwood Hedge 7'H with Planter\", 'descriptions': 'Dimensions: 7\\'H x 47.5\"L x 10.5\"D', 'sku': '430-6500'}, {'name': \"Boxwood Hedge 3'H with Planter\", 'descriptions': 'The dimensions are 47.5\"W x 10.5\"D x 37\"H', 'sku': '430-6000'}, {'name': 'Copper Moscow Mule Mug 17 oz', 'descriptions': '17oz Moscow Mule Mug \\r\\nRented in quantities of 16', 'sku': '236-5000'}, {'name': 'Bohemian Chair', 'descriptions': 'Introducing our Bohemian Chair, where timeless elegance meets modern design. The chair boasts a smooth surface that emulates the natural beauty of bamboo, combined with a contemporary woven fabric that adds a touch of sophistication to any decor. Elevate your space with this exquisite piece that effortlessly blends traditional charm with a fresh, stylish twist. Experience the perfect fusion of classic and contemporary with our stunning Bohemian Chair, designed to enhance your surroundings with its impeccable aesthetic.\\nDimensions: 23.5\"L x 24.5\"D x 38\"H', 'sku': '172-5700'}, {'name': 'Apex Highboy Table', 'descriptions': 'The Apex Highboy table has a pure and simple design which enables it to blend into the decor making it suitable for both domestic and commercial spaces.\\nDimensions: 28\" round x 42\"H', 'sku': '160-8990'}, {'name': 'Black Metal Umbrella Highboy Table 30\" Round', 'descriptions': 'Constructed of black, e-coated and powder-coated steel. \\xa0Mesh table top allows spills to fall through and onto the floor. \\xa0Incorporated umbrella hole of 1.875\" makes it easy to shade your customers from the sun - NOTE umbrella is rented separately. \\xa0Safe for outdoor use.\\xa0 Cover or store indoors during inclement weather and when not in use.\\nDimensions: 30\" round x 42\"H', 'sku': '156-802'}, {'name': 'Market Umbrella with 30\" Black Highboy Kit', 'descriptions': 'The Market Umbrella Black Highboy Table kit includes one 30\" round Black Highboy table with center hole and one Ecru Market Umbrella.\\xa0 Umbrella has a 102\" diameter.\\xa0\\nThe Black Highboy Table is constructed of black, e-coated and powder-coated steel. \\xa0Mesh table top allows spills to fall through and onto the floor.\\xa0 Safe for outdoor use.\\xa0 Cover or store indoors during inclement weather and when not in use.\\nDimensions of table: 30\" round x 42\"H\\nDimensions of umbrella: 102\" round x 108\"H', 'sku': '160-6485'}, {'name': 'White Milan Umbrella', 'descriptions': 'Nine-foot crank umbrella with push button tilt.\\xa0 Classic white fabric paired with white fringe for a touch of whimsy.\\xa0 Ideal to shade your posh furniture vingettes. \\xa0Cover or store indoors during inclement weather and when not in use.\\nDimensions: 108\"W x 108\"D x 99\"H opened.', 'sku': '575-960'}, {'name': 'Antique White Beach Umbrella', 'descriptions': 'Enjoy 6 feet of shade under our chic Antique White Beach Umbrella that stands 7 feet tall.\\xa0 Canopy is trimmed with natural cotton fringe and is UV and water resistant with fiberglass ribs.\\xa0 A marine grade hand polished aluminum hinge and handle on a recliamed timber laminated wood pole finshes off this beach beauty. \\xa0Cover or store indoors during inclement weather and when not in use.\\nDimensions: 72\"W x 72\"D x 84\"H.\\xa0 Pole diameter is 1.125\"', 'sku': '575-970'}, {'name': 'Black Stripe Beach Umbrella', 'descriptions': 'Enjoy 6 feet of shade under our chic vintage Black Stripe Beach Umbrella that stands 7 feet tall.\\xa0 Canopy is trimmed with natural cotton fringe and is UV and water resistant with fiberglass ribs.\\xa0 A marine grade hand polished aluminum hinge and handle on a recliamed timber laminated wood pole finshes off this beach beauty. \\xa0Cover or store indoors during inclement weather and when not in use.\\nDimensions: 72\"W x 72\"D x 84\"H.\\xa0 Pole diameter is 1.125\"', 'sku': '575-980'}, {'name': 'White Paisley Lace 90\" Square', 'descriptions': 'The White Paisley Lace is a 90\"x90\" square sheer overlay that will need a base linen underneath it.\\xa0 Photo shows a White underlay for reference.', 'sku': '853-8945'}, {'name': 'Ivory Paisley Lace 90\" Square', 'descriptions': 'The Ivory Paisley Lace is a 90\"x90\" square sheer overlay that will need a base linen underneath it.\\xa0 Photo shows a White underlay for reference.', 'sku': '853-8946'}, {'name': 'Champagne Paisley Lace 90\" Square', 'descriptions': 'The Champagne Paisley Lace is a 90\"x90\" square sheer overlay that will need a base linen underneath it.\\xa0 Photo shows a White underlay for reference.', 'sku': '853-8944'}, {'name': 'White Sonoma Runner', 'descriptions': 'Add soft texture to your tables by draping\\xa0 this runner as elegant fluff down the center.\\nWhite Sonoma Runner measures 13\"W x 50\"L.', 'sku': '890-8946'}, {'name': 'Ivory Sonoma Runner', 'descriptions': 'Add soft texture to your tables by draping\\xa0 this runner as elegant fluff down the center.\\nIvory Sonoma Runner measures 13\"W x 50\"L.', 'sku': '890-8945'}, {'name': 'Blush Sonoma Runner', 'descriptions': 'Add soft texture to your tables by draping\\xa0 this runner as elegant fluff down the center.\\nBlush Sonoma Runner measures 13\"W x 50\"L.', 'sku': '890-9944'}, {'name': 'Spade', 'descriptions': None, 'sku': '9443Spade'}, {'name': 'Hampton', 'descriptions': None, 'sku': '9442Hampton'}, {'name': 'Custom Graphic Linen', 'descriptions': 'Personalize your next event space by adding Custom Graphic Linens that everyone will be talking about!\\xa0 Simply add this product to your cart and proceed to check out and a sales rep will reach out to you to acquire your desired linen size, quantity and high resolution photo image that you want to use.\\xa0\\nPrices will vary based on size and graphic image.\\xa0 We request at least a 2 week lead time prior to the delivery date.\\nLive images shown are of a Custom Graphic Runner that Destination Cleveland had created.', 'sku': '750-4950'}, {'name': 'Gold Scissors 12\" - RESALE', 'descriptions': 'These 12\" Gold Scissors have an easy-grip handle with larger loops.\\xa0 Perfect for ceremonial ribbon cutting events!\\nThis is a resale item that you will keep.', 'sku': '750-1110'}, {'name': 'Zara Lounge Chair', 'descriptions': 'The Zara Lounge Chair is made from brown-finished FSC-certified teak with an abstract slat pattern for eye-catching effect, Velcro-secured stone-grey seating spurs comfort and style alike. Cover or store indoors during inclement weather and when not in use.\\nDimensions: 30\"L x 33\"D x 29\"H', 'sku': '172-6500'}, {'name': 'Zara Sofa', 'descriptions': 'Made from brown-finished FSC-certified teak with an abstract slat pattern for eye-catching effect, Velcro-secured stone-grey seating spurs comfort and style alike. Cover or store indoors during inclement weather and when not in use.\\nDimensions:\\xa058.5\"L\\xa0x 33\"D\\xa0x 29\"H', 'sku': '172-6600'}, {'name': 'Zara Dining Table', 'descriptions': 'Rent this beautiful double-wide 8\\'L Zara Dining Table for your next event statement piece!\\xa0 Made of solid FSC teak material this table can be used outdoors without a tent covering.\\xa0 Cover or store indoors during inclement weather and when not in use.\\nDimensions: 96\"L x 42\"W x 30\"H', 'sku': '172-6700'}, {'name': 'Blush with Gold Geometric Pillow 18\" x 18\"', 'descriptions': None, 'sku': '170-7775'}, {'name': 'Gold Velvet Pillow 18\" x 18\"', 'descriptions': None, 'sku': '170-7765'}, {'name': 'Blush Velvet Pillow 18\" x 18\"', 'descriptions': None, 'sku': '170-7770'}, {'name': 'Mahogany Tree 6.5’', 'descriptions': 'The Mahogany Tree stands 6.5\\'H and the widest part of the tree top is 3\\'W.\\xa0 The bottom planter base measures 10\"x10\".', 'sku': '430-6300'}, {'name': 'Bamboo Tree 6’', 'descriptions': 'The Bamboo Tree stands 6\\'H and the widest part of the tree top is 3\\'W.\\xa0 The bottom planter base measures 10\"x10\".', 'sku': '430-6200'}, {'name': 'Fiddle Leaf Tree 7’', 'descriptions': 'The Fiddle Tree stands 7\\'H and the widest part of the tree top is 4\\'W.\\xa0 The bottom planter base measures 10\"x10\".', 'sku': '430-6400'}, {'name': 'White Labyrinth Partition Wall', 'descriptions': 'This partition wall can be used as a room divider or a privacy screen.\\xa0 The dimensions are 48\"W x 80\"H', 'sku': '430-7000-3'}, {'name': 'White Ziggy Partition Wall', 'descriptions': 'This partition wall can be used as a room divider or a privacy screen.\\xa0 The dimensions are 48\"W x 80\"H', 'sku': '430-7000-2'}, {'name': 'Clear Partition Wall', 'descriptions': 'This partition wall can be used as a room divider or a privacy screen.\\xa0 The dimensions are 48\"W x 80\"H', 'sku': '430-7000-1'}, {'name': 'Haven', 'descriptions': None, 'sku': '8955Haven'}, {'name': 'Dancing Queen', 'descriptions': None, 'sku': '8956DancingQueen'}, {'name': 'Empire', 'descriptions': 'Our Empire linen is reversible.', 'sku': '8957Empire'}, {'name': 'Esmeralda', 'descriptions': 'Our Esmeralda linen is reversible.', 'sku': '8958Esmeralda'}, {'name': 'Granada Shot Glass', 'descriptions': 'The Granada shot glass can hold 3 liquid ounces. \\xa0Perfect for individual dessert parfaits!\\xa0\\nDimensions: 2\" rim diameter x 4.25\"H.\\xa0 Height without the stem is 2.75\".', 'sku': '236-2140'}, {'name': 'Seville Shot Glass', 'descriptions': 'The Seville shot glass can hold 4.5 liquid ounces. \\xa0Perfect for individual dessert parfaits!\\xa0\\nDimensions: 1.75\" rim diameter x 4.25\"H', 'sku': '236-2130'}, {'name': 'Madrid Shot Glass', 'descriptions': 'The Madrid shot glass can hold 3 liquid ounces.\\xa0 Perfect for individual dessert parfaits!\\xa0\\nDimensions: 1.5\" rim diameter x 4.5\"H.\\xa0 Height without the stem is 3\".', 'sku': '236-2120'}, {'name': 'Black 28\" Round Pedestal Table', 'descriptions': 'Dimensions: 28\" round table top with your choice of 30\"H or 42\"H center pole to make this a cafe low top or a high top table.\\xa0 You can also choose if you want the Cross style or Trumpet style base.', 'sku': 'SC-7710'}, {'name': 'White Wood 36\" Round Pedestal Table', 'descriptions': 'Dimensions: 36\" round table top with your choice of 30\"H or 42\"H center pole to make this a cafe low top or a high top table.\\xa0\\nThe White Wood table top is made up of a resin composite that looks like wood.\\xa0\\xa0You can choose between the Cross style or Trumpet style table base.', 'sku': '156-8025'}, {'name': 'White Wood 42\" Round Pedestal Table', 'descriptions': 'Dimensions: 42\" round table top with your choice of 30\"H or 42\"H center pole to make this a cafe low top or a high top table.\\xa0\\nThe White Wood table top is made up of a resin composite that looks like wood.\\xa0\\xa0The Trumpet base is the only style base that will fit this size table top.', 'sku': '156-8035'}, {'name': 'Spice Panama', 'descriptions': 'Our Spice Panama linen is 100% polyester but looks and feels like cotton.\\xa0 The fabric has a nice heavy weight to it, allowing the cloth to lay well on tables.\\xa0 The subtle texture is perfect for both indoor and outdoor events.', 'sku': '8631SpicePanama'}, {'name': 'Navy Extreme Crush', 'descriptions': None, 'sku': '8558NavyExtremeCrush'}, {'name': 'Isabelle', 'descriptions': 'All of our dinnerware is sanitized\\xa0and plastic wrapped in quantities of 10 to ensure accuracy and cleanliness.', 'sku': '235Isabelle'}, {'name': 'Black Majestic', 'descriptions': 'Black Majestic linens look very similar to Dupioni silk but are made out of a synthetic polyester blend.\\nThese linens are reversible, and are seamless so you can use either side. The front of the black linen features a matte finish with the look and texture of raw silk linen, while the back of the linen offers a sumptuous sheen.', 'sku': '8354BlackMajestic'}, {'name': 'Teak Acacia Sofa', 'descriptions': 'Made of Teak Wood with Beige Outdoor Cushions.\\xa0 Safe for outdoor use.\\xa0 Cover or store indoors during inclement weather and when not in use.\\n3 Piece sofa\\xa0set includes two end chairs and one\\xa0middle chair.\\xa0\\xa0\\nDimensions: 79\"L x 30\"D x 29\"H.\\xa0 Seat height from floor is 16\".', 'sku': '170-771'}, {'name': 'Lime Green Pillow 18\" x 18\"', 'descriptions': 'Indoor or outdoor pillow.', 'sku': '170-7920'}, {'name': 'Eclipse', 'descriptions': None, 'sku': '291Eclipse'}, {'name': 'Reed Chair', 'descriptions': 'Crafted from high-quality wood, this chair boasts a stunning natural finish that adds warmth and charm to any setting.\\xa0One of the key features of this chair is its back spindles, which create a visually stunning effect that is sure to impress your guests.\\xa0\\nDimensions: 17\"L x 16\"D x 35\"H', 'sku': '106-9225'}, {'name': 'Stella', 'descriptions': None, 'sku': '7910Stella'}, {'name': 'Fez', 'descriptions': None, 'sku': '6910Fez'}, {'name': 'White Velvet', 'descriptions': None, 'sku': '8866WhiteVelvet'}, {'name': 'Centrino', 'descriptions': None, 'sku': '5910Centrino'}, {'name': 'Eden Chair', 'descriptions': 'Dimensions: 31\"L x 30\"D x 27.5\"H\\nThis charming piece was made to transform your space into an artistic masterpiece of delightful style. Featuring plush white cushions and curved armrests. This takes a gorgeous classic look and brings an impressive modern twist, easily anchoring your décor in an atmosphere of elegance.', 'sku': '174-6700'}, {'name': 'Eden Sofa', 'descriptions': 'Dimensions: 89\"L x 32\"D x 27.5\"H\\nThis charming piece was made to transform your space into an artistic masterpiece of delightful style. Featuring plush white cushions and curved armrests. This takes a gorgeous classic look and brings an impressive modern twist, easily anchoring your décor in an atmosphere of elegance.', 'sku': '174-6600'}, {'name': 'Fire Bar', 'descriptions': 'Bring in the ambiance of a cozy fireplace to your next event with this Flame Bar.\\xa0 Regular 110V outlet needed for the video image of the flame to work.\\xa0 This product does not give off any heat. The barfront screen varies with glass beads and faux wood.\\nOverall dimensions: 72\"L x 20\"D x 41\"H', 'sku': 'SC-7760'}, {'name': 'Coral Velvet', 'descriptions': None, 'sku': 'CoralVelvet'}, {'name': 'Merchant Dining Table', 'descriptions': 'Dimensions: 96\"L x 40\"W x 30\"H\\nThe Merchant Dining\\xa0Table may be used indoors or outdoors, but must be covered by a tent, canopy or other structure to protect it from the direct weather elements.', 'sku': '160-8875'}, {'name': 'Finch End Tables', 'descriptions': 'Large Table Dimensions: 14\"L x 14\"D x 21\"H\\nSmall Table Dimensions: 12\"L x 12\"D x 19\"H\\nWhite marble table top with antique brass legs.\\xa0 The small end table can nest under the large end table.', 'sku': 'FinchEndTables'}, {'name': 'Sahara Side Table', 'descriptions': 'Dimensions: 18\"L x 18\"D x 20\"H\\nAn antique brass finish highlights iron\\'s gradual blending of hues, delivering a distinctive ombre effect to the cylindrical end table.', 'sku': '172-3085'}, {'name': 'Sahara Coffee Table', 'descriptions': 'Dimensions: 25\"L x 25\"D x 16.25\"H\\nAn antique brass finish highlights iron\\'s gradual blending of hues, delivering a distinctive ombre effect to the rounded bunching table.', 'sku': '172-3075'}, {'name': 'Etch Side Table', 'descriptions': 'Dimensions: 18.5\"L x 14\"D x 20\"H\\nMade of iron with an antique nickel finish.', 'sku': '172-3175'}, {'name': 'Ember End Table', 'descriptions': 'Dimensions: 20\"L x 20\"D x 19\"H\\nStunning forces of nature are captured in a drum-style pedestal table, as spalted primavera wood is hand-shaped into a beautifully rounded silhouette. Reflective of woods\\' natural character, a slight color variance is possible from piece to piece.', 'sku': '174-950'}, {'name': 'Ember Coffee Table', 'descriptions': 'Dimensions: 40\"L x 40\"D x 15\"H\\nStunning forces of nature are captured in a drum-style pedestal coffee table, as spalted primavera wood is hand-shaped into a beautifully rounded silhouette. Reflective of woods\\' natural character, a slight color variance is expected from piece to piece.', 'sku': '174-900'}, {'name': 'Blush Dottie', 'descriptions': 'Linen is Reversible', 'sku': '4930BlushDottie'}, {'name': 'Lavender Dottie', 'descriptions': 'Linen is Reversible', 'sku': '4920LavenderDottie'}, {'name': 'Ivory Dottie', 'descriptions': 'Linen is Reversible', 'sku': '4910IvoryDottie'}, {'name': 'Vintage Spruce 36\" Round Pedestal Table', 'descriptions': 'Dimensions: 36\" round table top with your choice of 30\"H or 42\"H center pole to make this a cafe low top or a high top table.\\xa0 The table top is made up of a resin composite that looks like treated\\xa0spruce wood.\\xa0\\xa0You can also choose between the Cross style or Trumpet style table base.', 'sku': '156-1250'}, {'name': 'Teak Acacia Coffee Table', 'descriptions': 'Dimensions: 27.5\"L x 27.5\"D x 13.5\"H\\nPairs perfectly with our Teak Acacia Sectional and is suitable for indoor and outdoor use.\\xa0 Cover or store indoors during inclement weather and when not in use.', 'sku': '170-7744'}, {'name': 'Blossom', 'descriptions': 'Rent this beautiful watercolor floral linen for your next shower, celebration or custom-themed event!\\n100% Poly\\nIvory Base', 'sku': 'Blossom'}, {'name': 'Teak Acacia Sectional Sofa', 'descriptions': 'Dimesnions: 80.75\"L x 80.75\"D x 26.25\"H\\n5 Piece sectional set includes two end chairs, two middle chairs and one corner chair.\\xa0 Coffee table is a separate rental.\\nMade of Teak Wood with Beige Outdoor Cushions.\\xa0 Safe for outdoor use.\\xa0 Cover or store indoors during inclement weather and when not in use.', 'sku': '170-774'}, {'name': 'Rylee Chair', 'descriptions': 'This indoor/outdoor collection has a minimalist design with accents of premium teak. With its squared-off design, it features deep seats and generously padded cushions. \\xa0Cover or store indoors during inclement weather and when not in use.\\n\\xa0\\nDimensions: 42\"L x 40\"D x 31\"H\\nAluminum Frame with teak wood arms', 'sku': '173-1850'}, {'name': 'Rylee Sofa', 'descriptions': 'This indoor/outdoor collection has a minimalist design with accents of premium teak. With its squared-off design, it features deep seats and generously padded cushions. \\xa0Cover or store indoors during inclement weather and when not in use.\\nDimensions:\\xa086\"L x 40\"D x 31\"H\\nAluminum Frame with teak wood arms', 'sku': '173-1800'}, {'name': 'Teak 32\" Round Pedestal Table', 'descriptions': 'Dimensions: 32\" round table top with your choice of 30\"H or 42\"H center pole to make this a cafe low top or a high top table.\\xa0\\xa0The Trumpet base is the only style base that will fit this table top.', 'sku': 'SC-8010'}, {'name': 'Spice Velvet', 'descriptions': None, 'sku': 'SpiceVelvet'}, {'name': 'Leaf Velvet', 'descriptions': None, 'sku': 'LeafVelvet'}, {'name': 'Sunshine Velvet', 'descriptions': None, 'sku': 'SunshineVelvet'}, {'name': 'Smoke Velvet', 'descriptions': None, 'sku': 'SmokeVelvet'}, {'name': 'Black Velvet', 'descriptions': None, 'sku': 'BlackVelvet'}]\n"
     ]
    }
   ],
   "source": [
    "# Scap name & link\n",
    "\n",
    "products = soup2.find_all('li', class_='item product product-item')\n",
    "\n",
    "headers = {'User-Agent':'Mozilla/5.0 (Macintosh; Intel Mac OS X 10_15_7) AppleWebKit/537.36 (KHTML, like Gecko) Chrome/115.0.0.0 Safari/537.36'}\n",
    "\n",
    "def extract_text1(soup, tag, selector):\n",
    "    try:\n",
    "        return soup.find(tag, class_ = selector).get_text().strip()\n",
    "    except AttributeError as err:\n",
    "        #print(err)\n",
    "        return None  \n",
    "    \n",
    "infolist = []\n",
    "\n",
    "for product in products:\n",
    "    \n",
    "    link = product.a['href']\n",
    "   \n",
    "    headers = {'User-Agent':'Mozilla/5.0 (Macintosh; Intel Mac OS X 10_15_7) AppleWebKit/537.36 (KHTML, like Gecko) Chrome/115.0.0.0 Safari/537.36'}\n",
    "    page = requests.get(link, headers = headers)\n",
    "    soup = BeautifulSoup(page.content, 'html.parser')\n",
    "    \n",
    "    name = extract_text1(soup, 'h1', 'page-title')\n",
    "    \n",
    "    desp = extract_text1(soup, 'div', 'product attribute overview')\n",
    "    \n",
    "    skufull = soup.find('div', class_ = 'product attribute sku') \n",
    "    sku = extract_text1(skufull, 'div', 'value')\n",
    "    \n",
    "    info = {\n",
    "        'name': name,\n",
    "        'descriptions': desp,\n",
    "        'sku': sku\n",
    "    }\n",
    "    \n",
    "    infolist.append(info)\n",
    "\n",
    "print(infolist)\n",
    "\n",
    "\n",
    "    \n",
    "\n",
    "    \n",
    "\n",
    "\n",
    "\n"
   ]
  },
  {
   "cell_type": "code",
   "execution_count": 29,
   "id": "13bf8ca8",
   "metadata": {},
   "outputs": [],
   "source": [
    "df = pd.DataFrame(infolist)\n",
    "df.to_csv('panache_new_products.csv')"
   ]
  },
  {
   "cell_type": "code",
   "execution_count": 31,
   "id": "2731fd17",
   "metadata": {},
   "outputs": [
    {
     "name": "stdout",
     "output_type": "stream",
     "text": [
      "   Unnamed: 0                      name  \\\n",
      "0           0                Sky Panama   \n",
      "1           1   Cabana Pillow 20\" x 20\"   \n",
      "2           2  Peacock Pillow 20\" x 20\"   \n",
      "3           3      Beer Tub Double Wall   \n",
      "4           4  Homestead Sectional Sofa   \n",
      "\n",
      "                                        descriptions            sku  \n",
      "0  Our Sky Panama linen is 100% polyester but loo...  8640SkyPanama  \n",
      "1                           ***Coming August 2023***       170-7135  \n",
      "2                           ***Coming August 2023***       170-7140  \n",
      "3  Dimensions of Top Diameter: 19\"L x 19\"D x 9.5\"...        381-950  \n",
      "4  Dimensions Overall: 80\"W x 80\"D x 26.75\"H.  Di...        170-874  \n"
     ]
    }
   ],
   "source": [
    "\n",
    "df_check = pd.read_csv('/Users/ivanazhao/panache_new_products.csv')\n",
    "print(df_check.head())\n",
    "\n",
    "# End"
   ]
  },
  {
   "cell_type": "code",
   "execution_count": null,
   "id": "ea3b0965",
   "metadata": {},
   "outputs": [],
   "source": [
    "# For test purpose\n",
    "\n",
    "import csv\n",
    "\n",
    "header = ['name', 'dimensions','descriptions','sku']\n",
    "data = [name, dimensions, desp, sku]\n",
    "\n",
    "with open('panache.csv', 'w', newline = '', encoding='UTF8') as f:\n",
    "    writer = csv.writer(f)\n",
    "    writer.writerow(header)\n",
    "    writer.writerow(data)\n",
    "    \n",
    "with open('panache.csv', 'a+', newline = '', encoding='UTF8') as f:  # 'a+' append data\n",
    "    writer = csv.writer(f)\n",
    "    writer.writerow(data)"
   ]
  },
  {
   "cell_type": "code",
   "execution_count": null,
   "id": "7ec45894",
   "metadata": {},
   "outputs": [],
   "source": [
    "# test\n",
    "    \n",
    "URL = 'https://panacheevents.com/beer-tub-double-wall.html'\n",
    "headers = {'User-Agent':'Mozilla/5.0 (Macintosh; Intel Mac OS X 10_15_7) AppleWebKit/537.36 (KHTML, like Gecko) Chrome/115.0.0.0 Safari/537.36'}\n",
    "page = requests.get(URL, headers = headers)\n",
    "\n",
    "soup1 = BeautifulSoup(page.content, 'html.parser')  # extract html codes\n",
    "soup2 = BeautifulSoup(soup1.prettify(), 'html.parser' ) # make soup1 in a better format\n",
    "\n",
    "name = soup2.find('h1', class_ = 'page-title').get_text().strip()\n",
    "despfull = soup2.find('div',class_ = 'product attribute overview').get_text().strip()\n",
    "# dimensions= despfull.find_all('p')[0].get_text()\n",
    "# desp= despfull.find_all('p')[1].get_text()\n",
    "skufull = soup2.find('div', class_ = 'product attribute sku').get_text().strip()\n",
    "#sku = skufull.find('div', class_ = 'value').get_text()\n",
    "\n",
    "name = name.strip()\n",
    "dimensions = dimensions.strip()\n",
    "desp = despfull.strip()\n",
    "sku = skufull.strip()\n",
    "\n",
    "print('name:', name)\n",
    "\n",
    "# print('dimensions:',dimensions)\n",
    "\n",
    "print('description:',despfull)\n",
    "\n",
    "print('sku:',skufull)\n",
    "    "
   ]
  },
  {
   "cell_type": "code",
   "execution_count": null,
   "id": "a1135ead",
   "metadata": {},
   "outputs": [],
   "source": []
  }
 ],
 "metadata": {
  "kernelspec": {
   "display_name": "Python 3 (ipykernel)",
   "language": "python",
   "name": "python3"
  },
  "language_info": {
   "codemirror_mode": {
    "name": "ipython",
    "version": 3
   },
   "file_extension": ".py",
   "mimetype": "text/x-python",
   "name": "python",
   "nbconvert_exporter": "python",
   "pygments_lexer": "ipython3",
   "version": "3.9.12"
  }
 },
 "nbformat": 4,
 "nbformat_minor": 5
}
